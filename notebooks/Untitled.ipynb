{
 "cells": [
  {
   "cell_type": "code",
   "execution_count": 1,
   "id": "cd148ada-67ad-4551-91bd-682b2a6918dc",
   "metadata": {},
   "outputs": [],
   "source": [
    "# Visualisation des donnees augmentees"
   ]
  }
 ],
 "metadata": {
  "kernelspec": {
   "display_name": "ift6390-competition2-venv",
   "language": "python",
   "name": "ift6390-competition2-venv"
  },
  "language_info": {
   "codemirror_mode": {
    "name": "ipython",
    "version": 3
   },
   "file_extension": ".py",
   "mimetype": "text/x-python",
   "name": "python",
   "nbconvert_exporter": "python",
   "pygments_lexer": "ipython3",
   "version": "3.11.6"
  }
 },
 "nbformat": 4,
 "nbformat_minor": 5
}
