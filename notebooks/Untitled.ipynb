{
 "cells": [
  {
   "cell_type": "code",
   "execution_count": 26,
   "id": "3d496c26-da35-4d2e-a512-1d1d8da163c1",
   "metadata": {},
   "outputs": [
    {
     "data": {
      "text/plain": [
       "'\\\\'"
      ]
     },
     "execution_count": 26,
     "metadata": {},
     "output_type": "execute_result"
    }
   ],
   "source": [
    "def transform_labels(label_A, label_B):\n",
    "    # Compute the ASCII sum of the labels and add them together\n",
    "    ascii_sum = ord('A') + label_A + ord('A') + label_B\n",
    "\n",
    "    # Adjust the sum if it exceeds the range 122 (ASCII for 'z')\n",
    "    while ascii_sum > 122:\n",
    "        ascii_sum -= 122 - 65 + 1\n",
    "    # Convert the ASCII sum to its corresponding character\n",
    "    final_char = chr(ascii_sum)\n",
    "\n",
    "    # Convert the character to string dtype\n",
    "    return str(final_char)\n",
    "    \n",
    "transform_labels(7,13)"
   ]
  },
  {
   "cell_type": "code",
   "execution_count": 33,
   "id": "babd538d-db06-4895-99f4-a3dab68103a9",
   "metadata": {},
   "outputs": [
    {
     "data": {
      "text/plain": [
       "'J'"
      ]
     },
     "execution_count": 33,
     "metadata": {},
     "output_type": "execute_result"
    }
   ],
   "source": [
    "ascii_sum = ord('A') + 3 +  ord('A') + 6\n",
    "while ascii_sum >122:\n",
    "    ascii_sum -= 65\n",
    "str(chr(ascii_sum))"
   ]
  },
  {
   "cell_type": "code",
   "execution_count": null,
   "id": "aaaf2f88-3c50-46d6-b400-82008eb22074",
   "metadata": {},
   "outputs": [],
   "source": []
  }
 ],
 "metadata": {
  "kernelspec": {
   "display_name": "ift6390-competition2-venv",
   "language": "python",
   "name": "ift6390-competition2-venv"
  },
  "language_info": {
   "codemirror_mode": {
    "name": "ipython",
    "version": 3
   },
   "file_extension": ".py",
   "mimetype": "text/x-python",
   "name": "python",
   "nbconvert_exporter": "python",
   "pygments_lexer": "ipython3",
   "version": "3.11.6"
  }
 },
 "nbformat": 4,
 "nbformat_minor": 5
}
